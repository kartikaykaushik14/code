{
  "nbformat": 4,
  "nbformat_minor": 0,
  "metadata": {
    "colab": {
      "name": "kk4332_Q3_HW1.ipynb",
      "provenance": [],
      "collapsed_sections": []
    },
    "kernelspec": {
      "name": "python3",
      "display_name": "Python 3"
    },
    "language_info": {
      "name": "python"
    },
    "accelerator": "GPU",
    "widgets": {
      "application/vnd.jupyter.widget-state+json": {
        "7abf286d99af48029d2877fc1d6d5c8e": {
          "model_module": "@jupyter-widgets/controls",
          "model_name": "HBoxModel",
          "model_module_version": "1.5.0",
          "state": {
            "_view_name": "HBoxView",
            "_dom_classes": [],
            "_model_name": "HBoxModel",
            "_view_module": "@jupyter-widgets/controls",
            "_model_module_version": "1.5.0",
            "_view_count": null,
            "_view_module_version": "1.5.0",
            "box_style": "",
            "layout": "IPY_MODEL_8d3edf8382c34d9ba6a843a0756f3199",
            "_model_module": "@jupyter-widgets/controls",
            "children": [
              "IPY_MODEL_d61a0a39ae39497a926b942688fde8f2",
              "IPY_MODEL_224ac98a1601451f8de11543f9399e3f",
              "IPY_MODEL_f1893b07408342f0a5f12d40239d2915"
            ]
          }
        },
        "8d3edf8382c34d9ba6a843a0756f3199": {
          "model_module": "@jupyter-widgets/base",
          "model_name": "LayoutModel",
          "model_module_version": "1.2.0",
          "state": {
            "_view_name": "LayoutView",
            "grid_template_rows": null,
            "right": null,
            "justify_content": null,
            "_view_module": "@jupyter-widgets/base",
            "overflow": null,
            "_model_module_version": "1.2.0",
            "_view_count": null,
            "flex_flow": null,
            "width": null,
            "min_width": null,
            "border": null,
            "align_items": null,
            "bottom": null,
            "_model_module": "@jupyter-widgets/base",
            "top": null,
            "grid_column": null,
            "overflow_y": null,
            "overflow_x": null,
            "grid_auto_flow": null,
            "grid_area": null,
            "grid_template_columns": null,
            "flex": null,
            "_model_name": "LayoutModel",
            "justify_items": null,
            "grid_row": null,
            "max_height": null,
            "align_content": null,
            "visibility": null,
            "align_self": null,
            "height": null,
            "min_height": null,
            "padding": null,
            "grid_auto_rows": null,
            "grid_gap": null,
            "max_width": null,
            "order": null,
            "_view_module_version": "1.2.0",
            "grid_template_areas": null,
            "object_position": null,
            "object_fit": null,
            "grid_auto_columns": null,
            "margin": null,
            "display": null,
            "left": null
          }
        },
        "d61a0a39ae39497a926b942688fde8f2": {
          "model_module": "@jupyter-widgets/controls",
          "model_name": "HTMLModel",
          "model_module_version": "1.5.0",
          "state": {
            "_view_name": "HTMLView",
            "style": "IPY_MODEL_5c461f3d51624cf985426837745f18fd",
            "_dom_classes": [],
            "description": "",
            "_model_name": "HTMLModel",
            "placeholder": "​",
            "_view_module": "@jupyter-widgets/controls",
            "_model_module_version": "1.5.0",
            "value": "",
            "_view_count": null,
            "_view_module_version": "1.5.0",
            "description_tooltip": null,
            "_model_module": "@jupyter-widgets/controls",
            "layout": "IPY_MODEL_db8ecee2aa704540b9174fe0e38448b2"
          }
        },
        "224ac98a1601451f8de11543f9399e3f": {
          "model_module": "@jupyter-widgets/controls",
          "model_name": "FloatProgressModel",
          "model_module_version": "1.5.0",
          "state": {
            "_view_name": "ProgressView",
            "style": "IPY_MODEL_a09e143462a647e6a79c51fba1fc213b",
            "_dom_classes": [],
            "description": "",
            "_model_name": "FloatProgressModel",
            "bar_style": "success",
            "max": 170498071,
            "_view_module": "@jupyter-widgets/controls",
            "_model_module_version": "1.5.0",
            "value": 170498071,
            "_view_count": null,
            "_view_module_version": "1.5.0",
            "orientation": "horizontal",
            "min": 0,
            "description_tooltip": null,
            "_model_module": "@jupyter-widgets/controls",
            "layout": "IPY_MODEL_72ec2612adf24f8e885e4e212176f5ce"
          }
        },
        "f1893b07408342f0a5f12d40239d2915": {
          "model_module": "@jupyter-widgets/controls",
          "model_name": "HTMLModel",
          "model_module_version": "1.5.0",
          "state": {
            "_view_name": "HTMLView",
            "style": "IPY_MODEL_51945e507aec4b8ca8e5216a7e62c0c4",
            "_dom_classes": [],
            "description": "",
            "_model_name": "HTMLModel",
            "placeholder": "​",
            "_view_module": "@jupyter-widgets/controls",
            "_model_module_version": "1.5.0",
            "value": " 170499072/? [00:02&lt;00:00, 58957122.06it/s]",
            "_view_count": null,
            "_view_module_version": "1.5.0",
            "description_tooltip": null,
            "_model_module": "@jupyter-widgets/controls",
            "layout": "IPY_MODEL_341e59058a2949c391245106285d7a61"
          }
        },
        "5c461f3d51624cf985426837745f18fd": {
          "model_module": "@jupyter-widgets/controls",
          "model_name": "DescriptionStyleModel",
          "model_module_version": "1.5.0",
          "state": {
            "_view_name": "StyleView",
            "_model_name": "DescriptionStyleModel",
            "description_width": "",
            "_view_module": "@jupyter-widgets/base",
            "_model_module_version": "1.5.0",
            "_view_count": null,
            "_view_module_version": "1.2.0",
            "_model_module": "@jupyter-widgets/controls"
          }
        },
        "db8ecee2aa704540b9174fe0e38448b2": {
          "model_module": "@jupyter-widgets/base",
          "model_name": "LayoutModel",
          "model_module_version": "1.2.0",
          "state": {
            "_view_name": "LayoutView",
            "grid_template_rows": null,
            "right": null,
            "justify_content": null,
            "_view_module": "@jupyter-widgets/base",
            "overflow": null,
            "_model_module_version": "1.2.0",
            "_view_count": null,
            "flex_flow": null,
            "width": null,
            "min_width": null,
            "border": null,
            "align_items": null,
            "bottom": null,
            "_model_module": "@jupyter-widgets/base",
            "top": null,
            "grid_column": null,
            "overflow_y": null,
            "overflow_x": null,
            "grid_auto_flow": null,
            "grid_area": null,
            "grid_template_columns": null,
            "flex": null,
            "_model_name": "LayoutModel",
            "justify_items": null,
            "grid_row": null,
            "max_height": null,
            "align_content": null,
            "visibility": null,
            "align_self": null,
            "height": null,
            "min_height": null,
            "padding": null,
            "grid_auto_rows": null,
            "grid_gap": null,
            "max_width": null,
            "order": null,
            "_view_module_version": "1.2.0",
            "grid_template_areas": null,
            "object_position": null,
            "object_fit": null,
            "grid_auto_columns": null,
            "margin": null,
            "display": null,
            "left": null
          }
        },
        "a09e143462a647e6a79c51fba1fc213b": {
          "model_module": "@jupyter-widgets/controls",
          "model_name": "ProgressStyleModel",
          "model_module_version": "1.5.0",
          "state": {
            "_view_name": "StyleView",
            "_model_name": "ProgressStyleModel",
            "description_width": "",
            "_view_module": "@jupyter-widgets/base",
            "_model_module_version": "1.5.0",
            "_view_count": null,
            "_view_module_version": "1.2.0",
            "bar_color": null,
            "_model_module": "@jupyter-widgets/controls"
          }
        },
        "72ec2612adf24f8e885e4e212176f5ce": {
          "model_module": "@jupyter-widgets/base",
          "model_name": "LayoutModel",
          "model_module_version": "1.2.0",
          "state": {
            "_view_name": "LayoutView",
            "grid_template_rows": null,
            "right": null,
            "justify_content": null,
            "_view_module": "@jupyter-widgets/base",
            "overflow": null,
            "_model_module_version": "1.2.0",
            "_view_count": null,
            "flex_flow": null,
            "width": null,
            "min_width": null,
            "border": null,
            "align_items": null,
            "bottom": null,
            "_model_module": "@jupyter-widgets/base",
            "top": null,
            "grid_column": null,
            "overflow_y": null,
            "overflow_x": null,
            "grid_auto_flow": null,
            "grid_area": null,
            "grid_template_columns": null,
            "flex": null,
            "_model_name": "LayoutModel",
            "justify_items": null,
            "grid_row": null,
            "max_height": null,
            "align_content": null,
            "visibility": null,
            "align_self": null,
            "height": null,
            "min_height": null,
            "padding": null,
            "grid_auto_rows": null,
            "grid_gap": null,
            "max_width": null,
            "order": null,
            "_view_module_version": "1.2.0",
            "grid_template_areas": null,
            "object_position": null,
            "object_fit": null,
            "grid_auto_columns": null,
            "margin": null,
            "display": null,
            "left": null
          }
        },
        "51945e507aec4b8ca8e5216a7e62c0c4": {
          "model_module": "@jupyter-widgets/controls",
          "model_name": "DescriptionStyleModel",
          "model_module_version": "1.5.0",
          "state": {
            "_view_name": "StyleView",
            "_model_name": "DescriptionStyleModel",
            "description_width": "",
            "_view_module": "@jupyter-widgets/base",
            "_model_module_version": "1.5.0",
            "_view_count": null,
            "_view_module_version": "1.2.0",
            "_model_module": "@jupyter-widgets/controls"
          }
        },
        "341e59058a2949c391245106285d7a61": {
          "model_module": "@jupyter-widgets/base",
          "model_name": "LayoutModel",
          "model_module_version": "1.2.0",
          "state": {
            "_view_name": "LayoutView",
            "grid_template_rows": null,
            "right": null,
            "justify_content": null,
            "_view_module": "@jupyter-widgets/base",
            "overflow": null,
            "_model_module_version": "1.2.0",
            "_view_count": null,
            "flex_flow": null,
            "width": null,
            "min_width": null,
            "border": null,
            "align_items": null,
            "bottom": null,
            "_model_module": "@jupyter-widgets/base",
            "top": null,
            "grid_column": null,
            "overflow_y": null,
            "overflow_x": null,
            "grid_auto_flow": null,
            "grid_area": null,
            "grid_template_columns": null,
            "flex": null,
            "_model_name": "LayoutModel",
            "justify_items": null,
            "grid_row": null,
            "max_height": null,
            "align_content": null,
            "visibility": null,
            "align_self": null,
            "height": null,
            "min_height": null,
            "padding": null,
            "grid_auto_rows": null,
            "grid_gap": null,
            "max_width": null,
            "order": null,
            "_view_module_version": "1.2.0",
            "grid_template_areas": null,
            "object_position": null,
            "object_fit": null,
            "grid_auto_columns": null,
            "margin": null,
            "display": null,
            "left": null
          }
        },
        "b25fed390fbf4e579e1a8558327289a2": {
          "model_module": "@jupyter-widgets/controls",
          "model_name": "HBoxModel",
          "model_module_version": "1.5.0",
          "state": {
            "_view_name": "HBoxView",
            "_dom_classes": [],
            "_model_name": "HBoxModel",
            "_view_module": "@jupyter-widgets/controls",
            "_model_module_version": "1.5.0",
            "_view_count": null,
            "_view_module_version": "1.5.0",
            "box_style": "",
            "layout": "IPY_MODEL_21ebc037c87f4cffac6bffd0b70086de",
            "_model_module": "@jupyter-widgets/controls",
            "children": [
              "IPY_MODEL_b4fe5052b62a4502ab1ff299bafaa4d8",
              "IPY_MODEL_9831ff66e9eb406397a4682aab3bf38b",
              "IPY_MODEL_2e35b184d73d484fb296f5baff0a13f4"
            ]
          }
        },
        "21ebc037c87f4cffac6bffd0b70086de": {
          "model_module": "@jupyter-widgets/base",
          "model_name": "LayoutModel",
          "model_module_version": "1.2.0",
          "state": {
            "_view_name": "LayoutView",
            "grid_template_rows": null,
            "right": null,
            "justify_content": null,
            "_view_module": "@jupyter-widgets/base",
            "overflow": null,
            "_model_module_version": "1.2.0",
            "_view_count": null,
            "flex_flow": null,
            "width": null,
            "min_width": null,
            "border": null,
            "align_items": null,
            "bottom": null,
            "_model_module": "@jupyter-widgets/base",
            "top": null,
            "grid_column": null,
            "overflow_y": null,
            "overflow_x": null,
            "grid_auto_flow": null,
            "grid_area": null,
            "grid_template_columns": null,
            "flex": null,
            "_model_name": "LayoutModel",
            "justify_items": null,
            "grid_row": null,
            "max_height": null,
            "align_content": null,
            "visibility": null,
            "align_self": null,
            "height": null,
            "min_height": null,
            "padding": null,
            "grid_auto_rows": null,
            "grid_gap": null,
            "max_width": null,
            "order": null,
            "_view_module_version": "1.2.0",
            "grid_template_areas": null,
            "object_position": null,
            "object_fit": null,
            "grid_auto_columns": null,
            "margin": null,
            "display": null,
            "left": null
          }
        },
        "b4fe5052b62a4502ab1ff299bafaa4d8": {
          "model_module": "@jupyter-widgets/controls",
          "model_name": "HTMLModel",
          "model_module_version": "1.5.0",
          "state": {
            "_view_name": "HTMLView",
            "style": "IPY_MODEL_e69ee501defa4372a1f33e4ea98d421b",
            "_dom_classes": [],
            "description": "",
            "_model_name": "HTMLModel",
            "placeholder": "​",
            "_view_module": "@jupyter-widgets/controls",
            "_model_module_version": "1.5.0",
            "value": "",
            "_view_count": null,
            "_view_module_version": "1.5.0",
            "description_tooltip": null,
            "_model_module": "@jupyter-widgets/controls",
            "layout": "IPY_MODEL_98fea67dff384e3a87f0c7416ba4cebd"
          }
        },
        "9831ff66e9eb406397a4682aab3bf38b": {
          "model_module": "@jupyter-widgets/controls",
          "model_name": "FloatProgressModel",
          "model_module_version": "1.5.0",
          "state": {
            "_view_name": "ProgressView",
            "style": "IPY_MODEL_e519af3dadc449c18da7df026d397d49",
            "_dom_classes": [],
            "description": "",
            "_model_name": "FloatProgressModel",
            "bar_style": "success",
            "max": 170498071,
            "_view_module": "@jupyter-widgets/controls",
            "_model_module_version": "1.5.0",
            "value": 170498071,
            "_view_count": null,
            "_view_module_version": "1.5.0",
            "orientation": "horizontal",
            "min": 0,
            "description_tooltip": null,
            "_model_module": "@jupyter-widgets/controls",
            "layout": "IPY_MODEL_e9302661f250419a89b9437a06933986"
          }
        },
        "2e35b184d73d484fb296f5baff0a13f4": {
          "model_module": "@jupyter-widgets/controls",
          "model_name": "HTMLModel",
          "model_module_version": "1.5.0",
          "state": {
            "_view_name": "HTMLView",
            "style": "IPY_MODEL_b0c074b67e3a4769bdef3cf7bb3360d7",
            "_dom_classes": [],
            "description": "",
            "_model_name": "HTMLModel",
            "placeholder": "​",
            "_view_module": "@jupyter-widgets/controls",
            "_model_module_version": "1.5.0",
            "value": " 170499072/? [00:02&lt;00:00, 63450276.93it/s]",
            "_view_count": null,
            "_view_module_version": "1.5.0",
            "description_tooltip": null,
            "_model_module": "@jupyter-widgets/controls",
            "layout": "IPY_MODEL_ca91aff45bcb4e6eb3f8f9eb99830128"
          }
        },
        "e69ee501defa4372a1f33e4ea98d421b": {
          "model_module": "@jupyter-widgets/controls",
          "model_name": "DescriptionStyleModel",
          "model_module_version": "1.5.0",
          "state": {
            "_view_name": "StyleView",
            "_model_name": "DescriptionStyleModel",
            "description_width": "",
            "_view_module": "@jupyter-widgets/base",
            "_model_module_version": "1.5.0",
            "_view_count": null,
            "_view_module_version": "1.2.0",
            "_model_module": "@jupyter-widgets/controls"
          }
        },
        "98fea67dff384e3a87f0c7416ba4cebd": {
          "model_module": "@jupyter-widgets/base",
          "model_name": "LayoutModel",
          "model_module_version": "1.2.0",
          "state": {
            "_view_name": "LayoutView",
            "grid_template_rows": null,
            "right": null,
            "justify_content": null,
            "_view_module": "@jupyter-widgets/base",
            "overflow": null,
            "_model_module_version": "1.2.0",
            "_view_count": null,
            "flex_flow": null,
            "width": null,
            "min_width": null,
            "border": null,
            "align_items": null,
            "bottom": null,
            "_model_module": "@jupyter-widgets/base",
            "top": null,
            "grid_column": null,
            "overflow_y": null,
            "overflow_x": null,
            "grid_auto_flow": null,
            "grid_area": null,
            "grid_template_columns": null,
            "flex": null,
            "_model_name": "LayoutModel",
            "justify_items": null,
            "grid_row": null,
            "max_height": null,
            "align_content": null,
            "visibility": null,
            "align_self": null,
            "height": null,
            "min_height": null,
            "padding": null,
            "grid_auto_rows": null,
            "grid_gap": null,
            "max_width": null,
            "order": null,
            "_view_module_version": "1.2.0",
            "grid_template_areas": null,
            "object_position": null,
            "object_fit": null,
            "grid_auto_columns": null,
            "margin": null,
            "display": null,
            "left": null
          }
        },
        "e519af3dadc449c18da7df026d397d49": {
          "model_module": "@jupyter-widgets/controls",
          "model_name": "ProgressStyleModel",
          "model_module_version": "1.5.0",
          "state": {
            "_view_name": "StyleView",
            "_model_name": "ProgressStyleModel",
            "description_width": "",
            "_view_module": "@jupyter-widgets/base",
            "_model_module_version": "1.5.0",
            "_view_count": null,
            "_view_module_version": "1.2.0",
            "bar_color": null,
            "_model_module": "@jupyter-widgets/controls"
          }
        },
        "e9302661f250419a89b9437a06933986": {
          "model_module": "@jupyter-widgets/base",
          "model_name": "LayoutModel",
          "model_module_version": "1.2.0",
          "state": {
            "_view_name": "LayoutView",
            "grid_template_rows": null,
            "right": null,
            "justify_content": null,
            "_view_module": "@jupyter-widgets/base",
            "overflow": null,
            "_model_module_version": "1.2.0",
            "_view_count": null,
            "flex_flow": null,
            "width": null,
            "min_width": null,
            "border": null,
            "align_items": null,
            "bottom": null,
            "_model_module": "@jupyter-widgets/base",
            "top": null,
            "grid_column": null,
            "overflow_y": null,
            "overflow_x": null,
            "grid_auto_flow": null,
            "grid_area": null,
            "grid_template_columns": null,
            "flex": null,
            "_model_name": "LayoutModel",
            "justify_items": null,
            "grid_row": null,
            "max_height": null,
            "align_content": null,
            "visibility": null,
            "align_self": null,
            "height": null,
            "min_height": null,
            "padding": null,
            "grid_auto_rows": null,
            "grid_gap": null,
            "max_width": null,
            "order": null,
            "_view_module_version": "1.2.0",
            "grid_template_areas": null,
            "object_position": null,
            "object_fit": null,
            "grid_auto_columns": null,
            "margin": null,
            "display": null,
            "left": null
          }
        },
        "b0c074b67e3a4769bdef3cf7bb3360d7": {
          "model_module": "@jupyter-widgets/controls",
          "model_name": "DescriptionStyleModel",
          "model_module_version": "1.5.0",
          "state": {
            "_view_name": "StyleView",
            "_model_name": "DescriptionStyleModel",
            "description_width": "",
            "_view_module": "@jupyter-widgets/base",
            "_model_module_version": "1.5.0",
            "_view_count": null,
            "_view_module_version": "1.2.0",
            "_model_module": "@jupyter-widgets/controls"
          }
        },
        "ca91aff45bcb4e6eb3f8f9eb99830128": {
          "model_module": "@jupyter-widgets/base",
          "model_name": "LayoutModel",
          "model_module_version": "1.2.0",
          "state": {
            "_view_name": "LayoutView",
            "grid_template_rows": null,
            "right": null,
            "justify_content": null,
            "_view_module": "@jupyter-widgets/base",
            "overflow": null,
            "_model_module_version": "1.2.0",
            "_view_count": null,
            "flex_flow": null,
            "width": null,
            "min_width": null,
            "border": null,
            "align_items": null,
            "bottom": null,
            "_model_module": "@jupyter-widgets/base",
            "top": null,
            "grid_column": null,
            "overflow_y": null,
            "overflow_x": null,
            "grid_auto_flow": null,
            "grid_area": null,
            "grid_template_columns": null,
            "flex": null,
            "_model_name": "LayoutModel",
            "justify_items": null,
            "grid_row": null,
            "max_height": null,
            "align_content": null,
            "visibility": null,
            "align_self": null,
            "height": null,
            "min_height": null,
            "padding": null,
            "grid_auto_rows": null,
            "grid_gap": null,
            "max_width": null,
            "order": null,
            "_view_module_version": "1.2.0",
            "grid_template_areas": null,
            "object_position": null,
            "object_fit": null,
            "grid_auto_columns": null,
            "margin": null,
            "display": null,
            "left": null
          }
        }
      }
    }
  },
  "cells": [
    {
      "cell_type": "markdown",
      "source": [
        "Import libraries"
      ],
      "metadata": {
        "id": "nyGkau5rzo9-"
      }
    },
    {
      "cell_type": "code",
      "execution_count": 1,
      "metadata": {
        "id": "t1GWneh75JgF"
      },
      "outputs": [],
      "source": [
        "import torch\n",
        "import torchvision\n",
        "from torch.nn import functional as F"
      ]
    },
    {
      "cell_type": "markdown",
      "source": [
        "Get training and testing datasets and convert CIFAR10 images to grayscale.\n",
        "\n",
        "In the data loader, we specify the batch size = 64 as required by the problem\n"
      ],
      "metadata": {
        "id": "Xk8KS8IYzvTL"
      }
    },
    {
      "cell_type": "code",
      "source": [
        "Transform = torchvision.transforms.Compose([torchvision.transforms.Grayscale(num_output_channels=1),torchvision.transforms.ToTensor()])\n",
        "\n",
        "trainingdata = torchvision.datasets.CIFAR10(root='./ data', train=True, download=True, transform=Transform) \n",
        "testdata = torchvision.datasets.CIFAR10(root='./data',  train=False, download=True, transform=Transform)\n",
        "\n",
        "trainDataLoader = torch.utils.data.DataLoader(trainingdata,batch_size=64,shuffle=True)\n",
        "testDataLoader = torch.utils.data.DataLoader(testdata,batch_size=64,shuffle=False)"
      ],
      "metadata": {
        "colab": {
          "base_uri": "https://localhost:8080/",
          "height": 152,
          "referenced_widgets": [
            "7abf286d99af48029d2877fc1d6d5c8e",
            "8d3edf8382c34d9ba6a843a0756f3199",
            "d61a0a39ae39497a926b942688fde8f2",
            "224ac98a1601451f8de11543f9399e3f",
            "f1893b07408342f0a5f12d40239d2915",
            "5c461f3d51624cf985426837745f18fd",
            "db8ecee2aa704540b9174fe0e38448b2",
            "a09e143462a647e6a79c51fba1fc213b",
            "72ec2612adf24f8e885e4e212176f5ce",
            "51945e507aec4b8ca8e5216a7e62c0c4",
            "341e59058a2949c391245106285d7a61",
            "b25fed390fbf4e579e1a8558327289a2",
            "21ebc037c87f4cffac6bffd0b70086de",
            "b4fe5052b62a4502ab1ff299bafaa4d8",
            "9831ff66e9eb406397a4682aab3bf38b",
            "2e35b184d73d484fb296f5baff0a13f4",
            "e69ee501defa4372a1f33e4ea98d421b",
            "98fea67dff384e3a87f0c7416ba4cebd",
            "e519af3dadc449c18da7df026d397d49",
            "e9302661f250419a89b9437a06933986",
            "b0c074b67e3a4769bdef3cf7bb3360d7",
            "ca91aff45bcb4e6eb3f8f9eb99830128"
          ]
        },
        "id": "ZVcIBYE05mrp",
        "outputId": "487e273a-3a78-446c-c7aa-2239ffb9199f"
      },
      "execution_count": 2,
      "outputs": [
        {
          "output_type": "stream",
          "name": "stdout",
          "text": [
            "Downloading https://www.cs.toronto.edu/~kriz/cifar-10-python.tar.gz to ./ data/cifar-10-python.tar.gz\n"
          ]
        },
        {
          "output_type": "display_data",
          "data": {
            "application/vnd.jupyter.widget-view+json": {
              "model_id": "7abf286d99af48029d2877fc1d6d5c8e",
              "version_minor": 0,
              "version_major": 2
            },
            "text/plain": [
              "  0%|          | 0/170498071 [00:00<?, ?it/s]"
            ]
          },
          "metadata": {}
        },
        {
          "output_type": "stream",
          "name": "stdout",
          "text": [
            "Extracting ./ data/cifar-10-python.tar.gz to ./ data\n",
            "Downloading https://www.cs.toronto.edu/~kriz/cifar-10-python.tar.gz to ./data/cifar-10-python.tar.gz\n"
          ]
        },
        {
          "output_type": "display_data",
          "data": {
            "application/vnd.jupyter.widget-view+json": {
              "model_id": "b25fed390fbf4e579e1a8558327289a2",
              "version_minor": 0,
              "version_major": 2
            },
            "text/plain": [
              "  0%|          | 0/170498071 [00:00<?, ?it/s]"
            ]
          },
          "metadata": {}
        },
        {
          "output_type": "stream",
          "name": "stdout",
          "text": [
            "Extracting ./data/cifar-10-python.tar.gz to ./data\n"
          ]
        }
      ]
    },
    {
      "cell_type": "markdown",
      "source": [
        "Let us observe 5 images from training data in greyscale\n"
      ],
      "metadata": {
        "id": "u-YaJdRL0Uk1"
      }
    },
    {
      "cell_type": "code",
      "source": [
        "import matplotlib.pyplot as plt\n",
        "import numpy as np\n",
        "\n",
        "images, labels = iter(trainDataLoader).next()\n",
        "\n",
        "plt.figure(figsize=(10,4))\n",
        "for index in np.arange(0,5):\n",
        "  plt.subplot(1,5,index+1)\n",
        "  plt.imshow(images[index].squeeze().numpy(),cmap=plt.cm.gray)"
      ],
      "metadata": {
        "colab": {
          "base_uri": "https://localhost:8080/",
          "height": 147
        },
        "id": "t6oR3HzX56tL",
        "outputId": "675b7229-173f-42ef-9521-6528b23c54db"
      },
      "execution_count": 3,
      "outputs": [
        {
          "output_type": "display_data",
          "data": {
            "image/png": "[encoded data removed]",
            "text/plain": [
              "<Figure size 720x288 with 5 Axes>"
            ]
          },
          "metadata": {
            "needs_background": "light"
          }
        }
      ]
    },
    {
      "cell_type": "markdown",
      "source": [
        "In the LinearReg class we define the architecture of our neural network. The first hidden layer (layer1) has 256 neurons, layer2 has 128 neurons and layer3 has 64 neurons. layer4 is the output layer that has 10 output nodes.\n",
        "\n",
        "All the hidden layers have ReLU functions after the linear transform. The learning rate is fixed as 0.01 and SGD optimizer is used."
      ],
      "metadata": {
        "id": "Fps2xBTV1Axg"
      }
    },
    {
      "cell_type": "code",
      "source": [
        "class Multi_layer_CIFAR_10_Classifier(torch.nn.Module):\n",
        "  def __init__(self):\n",
        "    super(Multi_layer_CIFAR_10_Classifier, self).__init__()\n",
        "    self.layer1 = torch.nn.Linear(32*32, 256)\n",
        "    self.layer2 = torch.nn.Linear(256, 128)\n",
        "    self.layer3 = torch.nn.Linear(128, 64)\n",
        "    self.layer4= torch.nn.Linear(64, 10)\n",
        "\n",
        "  def forward(self, x):\n",
        "    x = x.view(-1,32*32)\n",
        "\n",
        "    x = self.layer1(x)\n",
        "    x = torch.nn.functional.relu(x)\n",
        "\n",
        "    x = self.layer2(x)\n",
        "    x = torch.nn.functional.relu(x)\n",
        "\n",
        "    x = self.layer3(x)\n",
        "    x = torch.nn.functional.relu(x)\n",
        "\n",
        "    x = self.layer4(x)\n",
        "    \n",
        "    return x\n",
        "\n",
        "net = Multi_layer_CIFAR_10_Classifier().cuda()\n",
        "Loss = torch.nn.CrossEntropyLoss()\n",
        "optimizer = torch.optim.SGD(net.parameters(), lr=0.01)"
      ],
      "metadata": {
        "id": "7afhVDFT6whu"
      },
      "execution_count": 4,
      "outputs": []
    },
    {
      "cell_type": "markdown",
      "source": [
        "Now, that we have our architecture ready, we will forward propagation to get the average training loss, and propagate backwards the corrected weights for training data. For testing data, we shall only run forward propagation to get testing loss and accuracy. \n",
        "\n",
        "The whole operation is done for 75 epochs (in this case) and the training loss, testing loss and accuracy were printed for each epoch."
      ],
      "metadata": {
        "id": "BHFpuXfV2LfQ"
      }
    },
    {
      "cell_type": "code",
      "source": [
        "train_loss_history = []\n",
        "test_loss_history = []\n",
        "epoch = 75\n",
        "for epoch in range(epoch):\n",
        "  train_loss = 0.0\n",
        "  test_loss = 0.0\n",
        "  test_accuracy = 0.0\n",
        "  for i, data in enumerate(trainDataLoader):\n",
        "    images, labels = data\n",
        "    images = images.cuda()\n",
        "    labels = labels.cuda()\n",
        "    optimizer.zero_grad()\n",
        "    predicted_output = net(images)\n",
        "    fit = Loss(predicted_output,labels)\n",
        "    fit.backward()\n",
        "    optimizer.step()\n",
        "    train_loss += fit.item()\n",
        "  for i, data in enumerate(testDataLoader):\n",
        "    with torch.no_grad():\n",
        "      images, labels = data\n",
        "      images = images.cuda()\n",
        "      labels = labels.cuda()\n",
        "      predicted_output = net(images)\n",
        "      fit = Loss(predicted_output,labels)\n",
        "      test_loss += fit.item()\n",
        "      test_accuracy += (torch.eq(torch.max(predicted_output, 1)[1],labels).sum()).data.cpu().numpy()\n",
        "\n",
        "  train_loss = train_loss/len(trainDataLoader)\n",
        "  test_loss = test_loss/len(testDataLoader)\n",
        "  test_accuracy = test_accuracy/len(testDataLoader)\n",
        "  train_loss_history.append(train_loss)\n",
        "  test_loss_history.append(test_loss)\n",
        "  print('Epoch %s, Train loss %s, Test loss %s, Test accuracy is %s'%(epoch, train_loss, test_loss, test_accuracy))"
      ],
      "metadata": {
        "id": "EdSeMfEiPimS",
        "colab": {
          "base_uri": "https://localhost:8080/"
        },
        "outputId": "7768606b-bf06-46ac-f55e-da850e6bdd79"
      },
      "execution_count": 5,
      "outputs": [
        {
          "output_type": "stream",
          "name": "stdout",
          "text": [
            "Epoch 0, Train loss 2.295320628549132, Test loss 2.283448609576863, Test accuracy is 7.496815286624204\n",
            "Epoch 1, Train loss 2.2409924043109046, Test loss 2.180881277011458, Test accuracy is 11.777070063694268\n",
            "Epoch 2, Train loss 2.1511403000568183, Test loss 2.1300887135183735, Test accuracy is 13.496815286624203\n",
            "Epoch 3, Train loss 2.1010640670576364, Test loss 2.0854659391816255, Test accuracy is 14.382165605095542\n",
            "Epoch 4, Train loss 2.0619305108514285, Test loss 2.063118188244522, Test accuracy is 15.885350318471337\n",
            "Epoch 5, Train loss 2.035941440431053, Test loss 2.0296316822622993, Test accuracy is 16.929936305732483\n",
            "Epoch 6, Train loss 2.0139284071410097, Test loss 2.003272206160673, Test accuracy is 17.38216560509554\n",
            "Epoch 7, Train loss 1.9882285668112127, Test loss 1.975221731100872, Test accuracy is 18.54140127388535\n",
            "Epoch 8, Train loss 1.9615424318081887, Test loss 1.949246044371538, Test accuracy is 19.121019108280255\n",
            "Epoch 9, Train loss 1.935993232995348, Test loss 1.973620141387745, Test accuracy is 18.063694267515924\n",
            "Epoch 10, Train loss 1.9111224233037065, Test loss 1.9030265656246501, Test accuracy is 20.229299363057326\n",
            "Epoch 11, Train loss 1.8856519853977292, Test loss 1.955885072422635, Test accuracy is 18.872611464968152\n",
            "Epoch 12, Train loss 1.861473175875671, Test loss 1.8464154771938446, Test accuracy is 21.78980891719745\n",
            "Epoch 13, Train loss 1.8402701311404137, Test loss 1.8411669693175394, Test accuracy is 21.853503184713375\n",
            "Epoch 14, Train loss 1.8208632473750492, Test loss 1.8256590070238539, Test accuracy is 21.980891719745223\n",
            "Epoch 15, Train loss 1.8008611946154738, Test loss 1.8258627645529, Test accuracy is 21.9171974522293\n",
            "Epoch 16, Train loss 1.783024404817225, Test loss 1.8075461676166316, Test accuracy is 22.29936305732484\n",
            "Epoch 17, Train loss 1.7680444011602865, Test loss 1.8429238507702093, Test accuracy is 21.910828025477706\n",
            "Epoch 18, Train loss 1.7493111896697822, Test loss 1.7969839929775069, Test accuracy is 22.85987261146497\n",
            "Epoch 19, Train loss 1.7355922507812909, Test loss 1.749715429962061, Test accuracy is 23.980891719745223\n",
            "Epoch 20, Train loss 1.7171946718259845, Test loss 1.7262548284166177, Test accuracy is 24.477707006369428\n",
            "Epoch 21, Train loss 1.7056952967973011, Test loss 1.720414769877294, Test accuracy is 24.369426751592357\n",
            "Epoch 22, Train loss 1.6901951281310956, Test loss 2.0569819804209812, Test accuracy is 18.46496815286624\n",
            "Epoch 23, Train loss 1.6768349540203125, Test loss 1.715425874776901, Test accuracy is 24.426751592356688\n",
            "Epoch 24, Train loss 1.6646494331872066, Test loss 1.687652349472046, Test accuracy is 24.808917197452228\n",
            "Epoch 25, Train loss 1.6500033435919095, Test loss 1.6790997518855295, Test accuracy is 25.426751592356688\n",
            "Epoch 26, Train loss 1.639711827268381, Test loss 1.6964872900847416, Test accuracy is 25.012738853503183\n",
            "Epoch 27, Train loss 1.6300170241719316, Test loss 1.8487125544031715, Test accuracy is 22.356687898089174\n",
            "Epoch 28, Train loss 1.617511540117776, Test loss 1.7462506673897906, Test accuracy is 24.29936305732484\n",
            "Epoch 29, Train loss 1.6078695189922363, Test loss 1.733615953451509, Test accuracy is 24.24203821656051\n",
            "Epoch 30, Train loss 1.5958582806160382, Test loss 1.6713312477063222, Test accuracy is 25.40764331210191\n",
            "Epoch 31, Train loss 1.5852119349457723, Test loss 1.66322641767514, Test accuracy is 25.719745222929937\n",
            "Epoch 32, Train loss 1.578771955216937, Test loss 1.7838892025552737, Test accuracy is 23.261146496815286\n",
            "Epoch 33, Train loss 1.5666123372514535, Test loss 1.6749180297183384, Test accuracy is 25.61783439490446\n",
            "Epoch 34, Train loss 1.5567990727436818, Test loss 1.6392837466707655, Test accuracy is 26.343949044585987\n",
            "Epoch 35, Train loss 1.5502149195927184, Test loss 1.8922761154782242, Test accuracy is 20.796178343949045\n",
            "Epoch 36, Train loss 1.5427293718013617, Test loss 2.033202964029494, Test accuracy is 19.522292993630572\n",
            "Epoch 37, Train loss 1.532792727965528, Test loss 1.6760797409494972, Test accuracy is 26.21019108280255\n",
            "Epoch 38, Train loss 1.5229025775819178, Test loss 1.7583187977979138, Test accuracy is 23.987261146496817\n",
            "Epoch 39, Train loss 1.5157695275438412, Test loss 1.8461943872415336, Test accuracy is 23.03184713375796\n",
            "Epoch 40, Train loss 1.5073135856472317, Test loss 1.6762471229407438, Test accuracy is 25.85987261146497\n",
            "Epoch 41, Train loss 1.4965009326520173, Test loss 1.7140417600133617, Test accuracy is 24.980891719745223\n",
            "Epoch 42, Train loss 1.4911060718929066, Test loss 1.6649586083782706, Test accuracy is 25.636942675159236\n",
            "Epoch 43, Train loss 1.4848426051456909, Test loss 2.377853773961401, Test accuracy is 14.89171974522293\n",
            "Epoch 44, Train loss 1.4773696351539143, Test loss 1.8825462016330403, Test accuracy is 22.076433121019107\n",
            "Epoch 45, Train loss 1.4663819637140045, Test loss 1.5867149920979882, Test accuracy is 27.61783439490446\n",
            "Epoch 46, Train loss 1.4605413750004586, Test loss 1.6482480491042897, Test accuracy is 26.363057324840764\n",
            "Epoch 47, Train loss 1.453574109107942, Test loss 1.5943499849100782, Test accuracy is 27.796178343949045\n",
            "Epoch 48, Train loss 1.445825121591768, Test loss 1.5977234483524492, Test accuracy is 27.554140127388536\n",
            "Epoch 49, Train loss 1.439610890872643, Test loss 1.6997825674190643, Test accuracy is 25.88535031847134\n",
            "Epoch 50, Train loss 1.4326800527170187, Test loss 1.568641205502164, Test accuracy is 27.94267515923567\n",
            "Epoch 51, Train loss 1.4250636652607442, Test loss 1.666206506407185, Test accuracy is 26.280254777070063\n",
            "Epoch 52, Train loss 1.4199933420361766, Test loss 1.570680625879081, Test accuracy is 28.191082802547772\n",
            "Epoch 53, Train loss 1.411471117030629, Test loss 1.8216724061662224, Test accuracy is 23.94267515923567\n",
            "Epoch 54, Train loss 1.402682473592441, Test loss 1.7976359941397504, Test accuracy is 24.84713375796178\n",
            "Epoch 55, Train loss 1.3978835893104145, Test loss 1.6007358078744, Test accuracy is 27.54140127388535\n",
            "Epoch 56, Train loss 1.3919393757877447, Test loss 1.6093557123925275, Test accuracy is 27.337579617834393\n",
            "Epoch 57, Train loss 1.3851006448726215, Test loss 1.7453933954238892, Test accuracy is 24.828025477707005\n",
            "Epoch 58, Train loss 1.3781226453421367, Test loss 1.7038139461711714, Test accuracy is 26.1656050955414\n",
            "Epoch 59, Train loss 1.370164166402329, Test loss 1.7244282938112878, Test accuracy is 26.178343949044585\n",
            "Epoch 60, Train loss 1.3651047247602506, Test loss 1.587636319695005, Test accuracy is 27.955414012738853\n",
            "Epoch 61, Train loss 1.3606956624009114, Test loss 1.6364237662333592, Test accuracy is 27.61783439490446\n",
            "Epoch 62, Train loss 1.3542694049265684, Test loss 1.65749559964344, Test accuracy is 26.78343949044586\n",
            "Epoch 63, Train loss 1.3471326606962688, Test loss 1.6175488210787439, Test accuracy is 27.681528662420384\n",
            "Epoch 64, Train loss 1.3381441278988138, Test loss 1.7429959401962862, Test accuracy is 25.598726114649683\n",
            "Epoch 65, Train loss 1.3353524554111158, Test loss 1.5851318790654467, Test accuracy is 28.611464968152866\n",
            "Epoch 66, Train loss 1.326326650655483, Test loss 1.8514501144931574, Test accuracy is 24.35031847133758\n",
            "Epoch 67, Train loss 1.3231896944820423, Test loss 1.6554798305414284, Test accuracy is 27.579617834394906\n",
            "Epoch 68, Train loss 1.3152083388679778, Test loss 1.6080665542821215, Test accuracy is 28.095541401273884\n",
            "Epoch 69, Train loss 1.3107791484316902, Test loss 1.634511993948821, Test accuracy is 27.477707006369428\n",
            "Epoch 70, Train loss 1.3051034643522004, Test loss 1.5557547610276823, Test accuracy is 28.88535031847134\n",
            "Epoch 71, Train loss 1.2952530511352411, Test loss 1.7529587806410092, Test accuracy is 25.37579617834395\n",
            "Epoch 72, Train loss 1.2902623706918848, Test loss 1.8725402294450504, Test accuracy is 24.37579617834395\n",
            "Epoch 73, Train loss 1.2849425040852382, Test loss 1.8602751098620665, Test accuracy is 24.802547770700638\n",
            "Epoch 74, Train loss 1.2789370241524922, Test loss 1.5817596494771873, Test accuracy is 28.496815286624205\n"
          ]
        }
      ]
    },
    {
      "cell_type": "code",
      "source": [
        "plt.plot(range(epoch+1),train_loss_history,'-',linewidth=3,label='Train Error')\n",
        "plt.plot(range(epoch+1),test_loss_history,'-',linewidth=3,label='Test Error')\n",
        "plt.xlabel('Epoch')\n",
        "plt.ylabel('Loss')\n",
        "plt.grid(True)\n",
        "plt.title('Train Loss Vs Test Loss')\n",
        "plt.legend()"
      ],
      "metadata": {
        "id": "KIM4e0weTAQB",
        "colab": {
          "base_uri": "https://localhost:8080/",
          "height": 313
        },
        "outputId": "b540a719-eddf-4d55-97a9-3bdd06e1b54e"
      },
      "execution_count": 6,
      "outputs": [
        {
          "output_type": "execute_result",
          "data": {
            "text/plain": [
              "<matplotlib.legend.Legend at 0x7f33a2c84750>"
            ]
          },
          "metadata": {},
          "execution_count": 6
        },
        {
          "output_type": "display_data",
          "data": {
            "image/png": "[encoded data removed]",
            "text/plain": [
              "<Figure size 432x288 with 1 Axes>"
            ]
          },
          "metadata": {
            "needs_background": "light"
          }
        }
      ]
    },
    {
      "cell_type": "markdown",
      "source": [
        "We could observe the maximum test accuracy to be around 28%."
      ],
      "metadata": {
        "id": "IeBSeRjptTLt"
      }
    }
  ]
}