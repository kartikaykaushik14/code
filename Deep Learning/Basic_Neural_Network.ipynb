{
  "nbformat": 4,
  "nbformat_minor": 0,
  "metadata": {
    "colab": {
      "name": "Assigment1.ipynb",
      "provenance": []
    },
    "kernelspec": {
      "name": "python3",
      "display_name": "Python 3"
    },
    "language_info": {
      "name": "python"
    },
    "accelerator": "GPU",
    "widgets": {
      "application/vnd.jupyter.widget-state+json": {
        "a81cf180ae444ad4a8b7e124bf535cdd": {
          "model_module": "@jupyter-widgets/controls",
          "model_name": "HBoxModel",
          "model_module_version": "1.5.0",
          "state": {
            "_view_name": "HBoxView",
            "_dom_classes": [],
            "_model_name": "HBoxModel",
            "_view_module": "@jupyter-widgets/controls",
            "_model_module_version": "1.5.0",
            "_view_count": null,
            "_view_module_version": "1.5.0",
            "box_style": "",
            "layout": "IPY_MODEL_e621b76c3e1c430486d801ebee226a36",
            "_model_module": "@jupyter-widgets/controls",
            "children": [
              "IPY_MODEL_2abae46e0b394c678c4d65d033396c9b",
              "IPY_MODEL_df3dd5a1ea9c43bf926e4a556a3532dd",
              "IPY_MODEL_74500179f3e9458aa759bc084e8a6c97"
            ]
          }
        },
        "e621b76c3e1c430486d801ebee226a36": {
          "model_module": "@jupyter-widgets/base",
          "model_name": "LayoutModel",
          "model_module_version": "1.2.0",
          "state": {
            "_view_name": "LayoutView",
            "grid_template_rows": null,
            "right": null,
            "justify_content": null,
            "_view_module": "@jupyter-widgets/base",
            "overflow": null,
            "_model_module_version": "1.2.0",
            "_view_count": null,
            "flex_flow": null,
            "width": null,
            "min_width": null,
            "border": null,
            "align_items": null,
            "bottom": null,
            "_model_module": "@jupyter-widgets/base",
            "top": null,
            "grid_column": null,
            "overflow_y": null,
            "overflow_x": null,
            "grid_auto_flow": null,
            "grid_area": null,
            "grid_template_columns": null,
            "flex": null,
            "_model_name": "LayoutModel",
            "justify_items": null,
            "grid_row": null,
            "max_height": null,
            "align_content": null,
            "visibility": null,
            "align_self": null,
            "height": null,
            "min_height": null,
            "padding": null,
            "grid_auto_rows": null,
            "grid_gap": null,
            "max_width": null,
            "order": null,
            "_view_module_version": "1.2.0",
            "grid_template_areas": null,
            "object_position": null,
            "object_fit": null,
            "grid_auto_columns": null,
            "margin": null,
            "display": null,
            "left": null
          }
        },
        "2abae46e0b394c678c4d65d033396c9b": {
          "model_module": "@jupyter-widgets/controls",
          "model_name": "HTMLModel",
          "model_module_version": "1.5.0",
          "state": {
            "_view_name": "HTMLView",
            "style": "IPY_MODEL_d5ee59972184408dbec3681b3755e24a",
            "_dom_classes": [],
            "description": "",
            "_model_name": "HTMLModel",
            "placeholder": "​",
            "_view_module": "@jupyter-widgets/controls",
            "_model_module_version": "1.5.0",
            "value": "",
            "_view_count": null,
            "_view_module_version": "1.5.0",
            "description_tooltip": null,
            "_model_module": "@jupyter-widgets/controls",
            "layout": "IPY_MODEL_b3879c0e692849438ef5a242c54f85e9"
          }
        },
        "df3dd5a1ea9c43bf926e4a556a3532dd": {
          "model_module": "@jupyter-widgets/controls",
          "model_name": "FloatProgressModel",
          "model_module_version": "1.5.0",
          "state": {
            "_view_name": "ProgressView",
            "style": "IPY_MODEL_150f6fd4778243a48fedbc3ad08c70e7",
            "_dom_classes": [],
            "description": "",
            "_model_name": "FloatProgressModel",
            "bar_style": "success",
            "max": 170498071,
            "_view_module": "@jupyter-widgets/controls",
            "_model_module_version": "1.5.0",
            "value": 170498071,
            "_view_count": null,
            "_view_module_version": "1.5.0",
            "orientation": "horizontal",
            "min": 0,
            "description_tooltip": null,
            "_model_module": "@jupyter-widgets/controls",
            "layout": "IPY_MODEL_3b5789dc6a204a46ae0aafab378f46e0"
          }
        },
        "74500179f3e9458aa759bc084e8a6c97": {
          "model_module": "@jupyter-widgets/controls",
          "model_name": "HTMLModel",
          "model_module_version": "1.5.0",
          "state": {
            "_view_name": "HTMLView",
            "style": "IPY_MODEL_f067e21a98d44868aed2370f71cc23b8",
            "_dom_classes": [],
            "description": "",
            "_model_name": "HTMLModel",
            "placeholder": "​",
            "_view_module": "@jupyter-widgets/controls",
            "_model_module_version": "1.5.0",
            "value": " 170499072/? [00:02&lt;00:00, 78837538.92it/s]",
            "_view_count": null,
            "_view_module_version": "1.5.0",
            "description_tooltip": null,
            "_model_module": "@jupyter-widgets/controls",
            "layout": "IPY_MODEL_0c15df48fd6942d4ad6c23b215bb6d55"
          }
        },
        "d5ee59972184408dbec3681b3755e24a": {
          "model_module": "@jupyter-widgets/controls",
          "model_name": "DescriptionStyleModel",
          "model_module_version": "1.5.0",
          "state": {
            "_view_name": "StyleView",
            "_model_name": "DescriptionStyleModel",
            "description_width": "",
            "_view_module": "@jupyter-widgets/base",
            "_model_module_version": "1.5.0",
            "_view_count": null,
            "_view_module_version": "1.2.0",
            "_model_module": "@jupyter-widgets/controls"
          }
        },
        "b3879c0e692849438ef5a242c54f85e9": {
          "model_module": "@jupyter-widgets/base",
          "model_name": "LayoutModel",
          "model_module_version": "1.2.0",
          "state": {
            "_view_name": "LayoutView",
            "grid_template_rows": null,
            "right": null,
            "justify_content": null,
            "_view_module": "@jupyter-widgets/base",
            "overflow": null,
            "_model_module_version": "1.2.0",
            "_view_count": null,
            "flex_flow": null,
            "width": null,
            "min_width": null,
            "border": null,
            "align_items": null,
            "bottom": null,
            "_model_module": "@jupyter-widgets/base",
            "top": null,
            "grid_column": null,
            "overflow_y": null,
            "overflow_x": null,
            "grid_auto_flow": null,
            "grid_area": null,
            "grid_template_columns": null,
            "flex": null,
            "_model_name": "LayoutModel",
            "justify_items": null,
            "grid_row": null,
            "max_height": null,
            "align_content": null,
            "visibility": null,
            "align_self": null,
            "height": null,
            "min_height": null,
            "padding": null,
            "grid_auto_rows": null,
            "grid_gap": null,
            "max_width": null,
            "order": null,
            "_view_module_version": "1.2.0",
            "grid_template_areas": null,
            "object_position": null,
            "object_fit": null,
            "grid_auto_columns": null,
            "margin": null,
            "display": null,
            "left": null
          }
        },
        "150f6fd4778243a48fedbc3ad08c70e7": {
          "model_module": "@jupyter-widgets/controls",
          "model_name": "ProgressStyleModel",
          "model_module_version": "1.5.0",
          "state": {
            "_view_name": "StyleView",
            "_model_name": "ProgressStyleModel",
            "description_width": "",
            "_view_module": "@jupyter-widgets/base",
            "_model_module_version": "1.5.0",
            "_view_count": null,
            "_view_module_version": "1.2.0",
            "bar_color": null,
            "_model_module": "@jupyter-widgets/controls"
          }
        },
        "3b5789dc6a204a46ae0aafab378f46e0": {
          "model_module": "@jupyter-widgets/base",
          "model_name": "LayoutModel",
          "model_module_version": "1.2.0",
          "state": {
            "_view_name": "LayoutView",
            "grid_template_rows": null,
            "right": null,
            "justify_content": null,
            "_view_module": "@jupyter-widgets/base",
            "overflow": null,
            "_model_module_version": "1.2.0",
            "_view_count": null,
            "flex_flow": null,
            "width": null,
            "min_width": null,
            "border": null,
            "align_items": null,
            "bottom": null,
            "_model_module": "@jupyter-widgets/base",
            "top": null,
            "grid_column": null,
            "overflow_y": null,
            "overflow_x": null,
            "grid_auto_flow": null,
            "grid_area": null,
            "grid_template_columns": null,
            "flex": null,
            "_model_name": "LayoutModel",
            "justify_items": null,
            "grid_row": null,
            "max_height": null,
            "align_content": null,
            "visibility": null,
            "align_self": null,
            "height": null,
            "min_height": null,
            "padding": null,
            "grid_auto_rows": null,
            "grid_gap": null,
            "max_width": null,
            "order": null,
            "_view_module_version": "1.2.0",
            "grid_template_areas": null,
            "object_position": null,
            "object_fit": null,
            "grid_auto_columns": null,
            "margin": null,
            "display": null,
            "left": null
          }
        },
        "f067e21a98d44868aed2370f71cc23b8": {
          "model_module": "@jupyter-widgets/controls",
          "model_name": "DescriptionStyleModel",
          "model_module_version": "1.5.0",
          "state": {
            "_view_name": "StyleView",
            "_model_name": "DescriptionStyleModel",
            "description_width": "",
            "_view_module": "@jupyter-widgets/base",
            "_model_module_version": "1.5.0",
            "_view_count": null,
            "_view_module_version": "1.2.0",
            "_model_module": "@jupyter-widgets/controls"
          }
        },
        "0c15df48fd6942d4ad6c23b215bb6d55": {
          "model_module": "@jupyter-widgets/base",
          "model_name": "LayoutModel",
          "model_module_version": "1.2.0",
          "state": {
            "_view_name": "LayoutView",
            "grid_template_rows": null,
            "right": null,
            "justify_content": null,
            "_view_module": "@jupyter-widgets/base",
            "overflow": null,
            "_model_module_version": "1.2.0",
            "_view_count": null,
            "flex_flow": null,
            "width": null,
            "min_width": null,
            "border": null,
            "align_items": null,
            "bottom": null,
            "_model_module": "@jupyter-widgets/base",
            "top": null,
            "grid_column": null,
            "overflow_y": null,
            "overflow_x": null,
            "grid_auto_flow": null,
            "grid_area": null,
            "grid_template_columns": null,
            "flex": null,
            "_model_name": "LayoutModel",
            "justify_items": null,
            "grid_row": null,
            "max_height": null,
            "align_content": null,
            "visibility": null,
            "align_self": null,
            "height": null,
            "min_height": null,
            "padding": null,
            "grid_auto_rows": null,
            "grid_gap": null,
            "max_width": null,
            "order": null,
            "_view_module_version": "1.2.0",
            "grid_template_areas": null,
            "object_position": null,
            "object_fit": null,
            "grid_auto_columns": null,
            "margin": null,
            "display": null,
            "left": null
          }
        },
        "9935119d0b9247eca57a7e6b6f919d40": {
          "model_module": "@jupyter-widgets/controls",
          "model_name": "HBoxModel",
          "model_module_version": "1.5.0",
          "state": {
            "_view_name": "HBoxView",
            "_dom_classes": [],
            "_model_name": "HBoxModel",
            "_view_module": "@jupyter-widgets/controls",
            "_model_module_version": "1.5.0",
            "_view_count": null,
            "_view_module_version": "1.5.0",
            "box_style": "",
            "layout": "IPY_MODEL_13bd4dcac2a74eaf8125611db80271a7",
            "_model_module": "@jupyter-widgets/controls",
            "children": [
              "IPY_MODEL_9fc16ec2bfdd44faaf676c20a6577ff0",
              "IPY_MODEL_f9d14363994345d499a53962f9259c54",
              "IPY_MODEL_e3a499237a6544288e3e96395ec3e21e"
            ]
          }
        },
        "13bd4dcac2a74eaf8125611db80271a7": {
          "model_module": "@jupyter-widgets/base",
          "model_name": "LayoutModel",
          "model_module_version": "1.2.0",
          "state": {
            "_view_name": "LayoutView",
            "grid_template_rows": null,
            "right": null,
            "justify_content": null,
            "_view_module": "@jupyter-widgets/base",
            "overflow": null,
            "_model_module_version": "1.2.0",
            "_view_count": null,
            "flex_flow": null,
            "width": null,
            "min_width": null,
            "border": null,
            "align_items": null,
            "bottom": null,
            "_model_module": "@jupyter-widgets/base",
            "top": null,
            "grid_column": null,
            "overflow_y": null,
            "overflow_x": null,
            "grid_auto_flow": null,
            "grid_area": null,
            "grid_template_columns": null,
            "flex": null,
            "_model_name": "LayoutModel",
            "justify_items": null,
            "grid_row": null,
            "max_height": null,
            "align_content": null,
            "visibility": null,
            "align_self": null,
            "height": null,
            "min_height": null,
            "padding": null,
            "grid_auto_rows": null,
            "grid_gap": null,
            "max_width": null,
            "order": null,
            "_view_module_version": "1.2.0",
            "grid_template_areas": null,
            "object_position": null,
            "object_fit": null,
            "grid_auto_columns": null,
            "margin": null,
            "display": null,
            "left": null
          }
        },
        "9fc16ec2bfdd44faaf676c20a6577ff0": {
          "model_module": "@jupyter-widgets/controls",
          "model_name": "HTMLModel",
          "model_module_version": "1.5.0",
          "state": {
            "_view_name": "HTMLView",
            "style": "IPY_MODEL_1e1efaf046084dbd8098bce96877d643",
            "_dom_classes": [],
            "description": "",
            "_model_name": "HTMLModel",
            "placeholder": "​",
            "_view_module": "@jupyter-widgets/controls",
            "_model_module_version": "1.5.0",
            "value": "",
            "_view_count": null,
            "_view_module_version": "1.5.0",
            "description_tooltip": null,
            "_model_module": "@jupyter-widgets/controls",
            "layout": "IPY_MODEL_f1d2b8fc6a334480938e657d42da4478"
          }
        },
        "f9d14363994345d499a53962f9259c54": {
          "model_module": "@jupyter-widgets/controls",
          "model_name": "FloatProgressModel",
          "model_module_version": "1.5.0",
          "state": {
            "_view_name": "ProgressView",
            "style": "IPY_MODEL_09927941790d4b6ca1cc276df352062a",
            "_dom_classes": [],
            "description": "",
            "_model_name": "FloatProgressModel",
            "bar_style": "success",
            "max": 170498071,
            "_view_module": "@jupyter-widgets/controls",
            "_model_module_version": "1.5.0",
            "value": 170498071,
            "_view_count": null,
            "_view_module_version": "1.5.0",
            "orientation": "horizontal",
            "min": 0,
            "description_tooltip": null,
            "_model_module": "@jupyter-widgets/controls",
            "layout": "IPY_MODEL_caeeba84cc014570b3e11e4c7866b14c"
          }
        },
        "e3a499237a6544288e3e96395ec3e21e": {
          "model_module": "@jupyter-widgets/controls",
          "model_name": "HTMLModel",
          "model_module_version": "1.5.0",
          "state": {
            "_view_name": "HTMLView",
            "style": "IPY_MODEL_5de749d29f2144039f3384ac85913660",
            "_dom_classes": [],
            "description": "",
            "_model_name": "HTMLModel",
            "placeholder": "​",
            "_view_module": "@jupyter-widgets/controls",
            "_model_module_version": "1.5.0",
            "value": " 170499072/? [00:02&lt;00:00, 85385830.66it/s]",
            "_view_count": null,
            "_view_module_version": "1.5.0",
            "description_tooltip": null,
            "_model_module": "@jupyter-widgets/controls",
            "layout": "IPY_MODEL_f44b08570bb944ccbf4ef07a764ee3ca"
          }
        },
        "1e1efaf046084dbd8098bce96877d643": {
          "model_module": "@jupyter-widgets/controls",
          "model_name": "DescriptionStyleModel",
          "model_module_version": "1.5.0",
          "state": {
            "_view_name": "StyleView",
            "_model_name": "DescriptionStyleModel",
            "description_width": "",
            "_view_module": "@jupyter-widgets/base",
            "_model_module_version": "1.5.0",
            "_view_count": null,
            "_view_module_version": "1.2.0",
            "_model_module": "@jupyter-widgets/controls"
          }
        },
        "f1d2b8fc6a334480938e657d42da4478": {
          "model_module": "@jupyter-widgets/base",
          "model_name": "LayoutModel",
          "model_module_version": "1.2.0",
          "state": {
            "_view_name": "LayoutView",
            "grid_template_rows": null,
            "right": null,
            "justify_content": null,
            "_view_module": "@jupyter-widgets/base",
            "overflow": null,
            "_model_module_version": "1.2.0",
            "_view_count": null,
            "flex_flow": null,
            "width": null,
            "min_width": null,
            "border": null,
            "align_items": null,
            "bottom": null,
            "_model_module": "@jupyter-widgets/base",
            "top": null,
            "grid_column": null,
            "overflow_y": null,
            "overflow_x": null,
            "grid_auto_flow": null,
            "grid_area": null,
            "grid_template_columns": null,
            "flex": null,
            "_model_name": "LayoutModel",
            "justify_items": null,
            "grid_row": null,
            "max_height": null,
            "align_content": null,
            "visibility": null,
            "align_self": null,
            "height": null,
            "min_height": null,
            "padding": null,
            "grid_auto_rows": null,
            "grid_gap": null,
            "max_width": null,
            "order": null,
            "_view_module_version": "1.2.0",
            "grid_template_areas": null,
            "object_position": null,
            "object_fit": null,
            "grid_auto_columns": null,
            "margin": null,
            "display": null,
            "left": null
          }
        },
        "09927941790d4b6ca1cc276df352062a": {
          "model_module": "@jupyter-widgets/controls",
          "model_name": "ProgressStyleModel",
          "model_module_version": "1.5.0",
          "state": {
            "_view_name": "StyleView",
            "_model_name": "ProgressStyleModel",
            "description_width": "",
            "_view_module": "@jupyter-widgets/base",
            "_model_module_version": "1.5.0",
            "_view_count": null,
            "_view_module_version": "1.2.0",
            "bar_color": null,
            "_model_module": "@jupyter-widgets/controls"
          }
        },
        "caeeba84cc014570b3e11e4c7866b14c": {
          "model_module": "@jupyter-widgets/base",
          "model_name": "LayoutModel",
          "model_module_version": "1.2.0",
          "state": {
            "_view_name": "LayoutView",
            "grid_template_rows": null,
            "right": null,
            "justify_content": null,
            "_view_module": "@jupyter-widgets/base",
            "overflow": null,
            "_model_module_version": "1.2.0",
            "_view_count": null,
            "flex_flow": null,
            "width": null,
            "min_width": null,
            "border": null,
            "align_items": null,
            "bottom": null,
            "_model_module": "@jupyter-widgets/base",
            "top": null,
            "grid_column": null,
            "overflow_y": null,
            "overflow_x": null,
            "grid_auto_flow": null,
            "grid_area": null,
            "grid_template_columns": null,
            "flex": null,
            "_model_name": "LayoutModel",
            "justify_items": null,
            "grid_row": null,
            "max_height": null,
            "align_content": null,
            "visibility": null,
            "align_self": null,
            "height": null,
            "min_height": null,
            "padding": null,
            "grid_auto_rows": null,
            "grid_gap": null,
            "max_width": null,
            "order": null,
            "_view_module_version": "1.2.0",
            "grid_template_areas": null,
            "object_position": null,
            "object_fit": null,
            "grid_auto_columns": null,
            "margin": null,
            "display": null,
            "left": null
          }
        },
        "5de749d29f2144039f3384ac85913660": {
          "model_module": "@jupyter-widgets/controls",
          "model_name": "DescriptionStyleModel",
          "model_module_version": "1.5.0",
          "state": {
            "_view_name": "StyleView",
            "_model_name": "DescriptionStyleModel",
            "description_width": "",
            "_view_module": "@jupyter-widgets/base",
            "_model_module_version": "1.5.0",
            "_view_count": null,
            "_view_module_version": "1.2.0",
            "_model_module": "@jupyter-widgets/controls"
          }
        },
        "f44b08570bb944ccbf4ef07a764ee3ca": {
          "model_module": "@jupyter-widgets/base",
          "model_name": "LayoutModel",
          "model_module_version": "1.2.0",
          "state": {
            "_view_name": "LayoutView",
            "grid_template_rows": null,
            "right": null,
            "justify_content": null,
            "_view_module": "@jupyter-widgets/base",
            "overflow": null,
            "_model_module_version": "1.2.0",
            "_view_count": null,
            "flex_flow": null,
            "width": null,
            "min_width": null,
            "border": null,
            "align_items": null,
            "bottom": null,
            "_model_module": "@jupyter-widgets/base",
            "top": null,
            "grid_column": null,
            "overflow_y": null,
            "overflow_x": null,
            "grid_auto_flow": null,
            "grid_area": null,
            "grid_template_columns": null,
            "flex": null,
            "_model_name": "LayoutModel",
            "justify_items": null,
            "grid_row": null,
            "max_height": null,
            "align_content": null,
            "visibility": null,
            "align_self": null,
            "height": null,
            "min_height": null,
            "padding": null,
            "grid_auto_rows": null,
            "grid_gap": null,
            "max_width": null,
            "order": null,
            "_view_module_version": "1.2.0",
            "grid_template_areas": null,
            "object_position": null,
            "object_fit": null,
            "grid_auto_columns": null,
            "margin": null,
            "display": null,
            "left": null
          }
        }
      }
    }
  },
  "cells": [
    {
      "cell_type": "markdown",
      "source": [
        "Import libraries"
      ],
      "metadata": {
        "id": "nyGkau5rzo9-"
      }
    },
    {
      "cell_type": "code",
      "execution_count": 3,
      "metadata": {
        "id": "t1GWneh75JgF"
      },
      "outputs": [],
      "source": [
        "import torch\n",
        "import torchvision\n",
        "from torch.nn import functional as F"
      ]
    },
    {
      "cell_type": "markdown",
      "source": [
        "Get training and testing datasets and convert CIFAR10 images to grayscale.\n",
        "\n",
        "In the data loader, we specify the batch size = 64 as required by the problem\n"
      ],
      "metadata": {
        "id": "Xk8KS8IYzvTL"
      }
    },
    {
      "cell_type": "code",
      "source": [
        "Transform = torchvision.transforms.Compose([torchvision.transforms.Grayscale(num_output_channels=1),torchvision.transforms.ToTensor()])\n",
        "\n",
        "trainingdata = torchvision.datasets.CIFAR10(root='./ data', train=True, download=True, transform=Transform) \n",
        "testdata = torchvision.datasets.CIFAR10(root='./data',  train=False, download=True, transform=Transform)\n",
        "\n",
        "trainDataLoader = torch.utils.data.DataLoader(trainingdata,batch_size=64,shuffle=True)\n",
        "testDataLoader = torch.utils.data.DataLoader(testdata,batch_size=64,shuffle=False)"
      ],
      "metadata": {
        "colab": {
          "base_uri": "https://localhost:8080/",
          "height": 152,
          "referenced_widgets": [
            "a81cf180ae444ad4a8b7e124bf535cdd",
            "e621b76c3e1c430486d801ebee226a36",
            "2abae46e0b394c678c4d65d033396c9b",
            "df3dd5a1ea9c43bf926e4a556a3532dd",
            "74500179f3e9458aa759bc084e8a6c97",
            "d5ee59972184408dbec3681b3755e24a",
            "b3879c0e692849438ef5a242c54f85e9",
            "150f6fd4778243a48fedbc3ad08c70e7",
            "3b5789dc6a204a46ae0aafab378f46e0",
            "f067e21a98d44868aed2370f71cc23b8",
            "0c15df48fd6942d4ad6c23b215bb6d55",
            "9935119d0b9247eca57a7e6b6f919d40",
            "13bd4dcac2a74eaf8125611db80271a7",
            "9fc16ec2bfdd44faaf676c20a6577ff0",
            "f9d14363994345d499a53962f9259c54",
            "e3a499237a6544288e3e96395ec3e21e",
            "1e1efaf046084dbd8098bce96877d643",
            "f1d2b8fc6a334480938e657d42da4478",
            "09927941790d4b6ca1cc276df352062a",
            "caeeba84cc014570b3e11e4c7866b14c",
            "5de749d29f2144039f3384ac85913660",
            "f44b08570bb944ccbf4ef07a764ee3ca"
          ]
        },
        "id": "ZVcIBYE05mrp",
        "outputId": "6e50bb96-e932-4630-8cf9-194260acd462"
      },
      "execution_count": 4,
      "outputs": [
        {
          "output_type": "stream",
          "name": "stdout",
          "text": [
            "Downloading https://www.cs.toronto.edu/~kriz/cifar-10-python.tar.gz to ./ data/cifar-10-python.tar.gz\n"
          ]
        },
        {
          "output_type": "display_data",
          "data": {
            "application/vnd.jupyter.widget-view+json": {
              "model_id": "a81cf180ae444ad4a8b7e124bf535cdd",
              "version_minor": 0,
              "version_major": 2
            },
            "text/plain": [
              "  0%|          | 0/170498071 [00:00<?, ?it/s]"
            ]
          },
          "metadata": {}
        },
        {
          "output_type": "stream",
          "name": "stdout",
          "text": [
            "Extracting ./ data/cifar-10-python.tar.gz to ./ data\n",
            "Downloading https://www.cs.toronto.edu/~kriz/cifar-10-python.tar.gz to ./data/cifar-10-python.tar.gz\n"
          ]
        },
        {
          "output_type": "display_data",
          "data": {
            "application/vnd.jupyter.widget-view+json": {
              "model_id": "9935119d0b9247eca57a7e6b6f919d40",
              "version_minor": 0,
              "version_major": 2
            },
            "text/plain": [
              "  0%|          | 0/170498071 [00:00<?, ?it/s]"
            ]
          },
          "metadata": {}
        },
        {
          "output_type": "stream",
          "name": "stdout",
          "text": [
            "Extracting ./data/cifar-10-python.tar.gz to ./data\n"
          ]
        }
      ]
    },
    {
      "cell_type": "markdown",
      "source": [
        "Let us observe 5 images from training data in greyscale\n"
      ],
      "metadata": {
        "id": "u-YaJdRL0Uk1"
      }
    },
    {
      "cell_type": "code",
      "source": [
        "import matplotlib.pyplot as plt\n",
        "import numpy as np\n",
        "\n",
        "images, labels = iter(trainDataLoader).next()\n",
        "\n",
        "plt.figure(figsize=(10,4))\n",
        "for index in np.arange(0,5):\n",
        "  plt.subplot(1,5,index+1)\n",
        "  plt.imshow(images[index].squeeze().numpy(),cmap=plt.cm.gray)"
      ],
      "metadata": {
        "colab": {
          "base_uri": "https://localhost:8080/",
          "height": 147
        },
        "id": "t6oR3HzX56tL",
        "outputId": "e3100007-63d1-473e-b58a-54d33ab3cdc1"
      },
      "execution_count": 5,
      "outputs": [
        {
          "output_type": "display_data",
          "data": {
            "image/png": "[encoded data removed]",
            "text/plain": [
              "<Figure size 720x288 with 5 Axes>"
            ]
          },
          "metadata": {
            "needs_background": "light"
          }
        }
      ]
    },
    {
      "cell_type": "markdown",
      "source": [
        "In the LinearReg class we define the architecture of our neural network. The first hidden layer (layer1) has 256 neurons, layer2 has 128 neurons and layer3 has 64 neurons. layer4 is the output layer that has 10 output nodes.\n",
        "\n",
        "All the hidden layers have ReLU functions after the linear transform. The learning rate is fixed as 0.01 and SGD optimizer is used."
      ],
      "metadata": {
        "id": "Fps2xBTV1Axg"
      }
    },
    {
      "cell_type": "code",
      "source": [
        "class Multi_layer_CIFAR_10_Classifier(torch.nn.Module):\n",
        "  def __init__(self):\n",
        "    super(Multi_layer_CIFAR_10_Classifier, self).__init__()\n",
        "    self.layer1 = torch.nn.Linear(32*32, 256)\n",
        "    self.layer2 = torch.nn.Linear(256, 128)\n",
        "    self.layer3 = torch.nn.Linear(128, 64)\n",
        "    self.layer4= torch.nn.Linear(64, 10)\n",
        "\n",
        "  def forward(self, x):\n",
        "    x = x.view(-1,32*32)\n",
        "\n",
        "    x = self.layer1(x)\n",
        "    x = torch.nn.functional.relu(x)\n",
        "\n",
        "    x = self.layer2(x)\n",
        "    x = torch.nn.functional.relu(x)\n",
        "\n",
        "    x = self.layer3(x)\n",
        "    x = torch.nn.functional.relu(x)\n",
        "\n",
        "    x = self.layer4(x)\n",
        "    \n",
        "    return x\n",
        "\n",
        "net = Multi_layer_CIFAR_10_Classifier().cuda()\n",
        "Loss = torch.nn.CrossEntropyLoss()\n",
        "optimizer = torch.optim.SGD(net.parameters(), lr=0.01)"
      ],
      "metadata": {
        "id": "7afhVDFT6whu"
      },
      "execution_count": 6,
      "outputs": []
    },
    {
      "cell_type": "markdown",
      "source": [
        "Now, that we have our architecture ready, we will forward propagation to get the average training loss, and propagate backwards the corrected weights for training data. For testing data, we shall only run forward propagation to get testing loss and accuracy. \n",
        "\n",
        "The whole operation is done for 100 epochs (in this case) and the training loss, testing loss and accuracy were printed for each epoch."
      ],
      "metadata": {
        "id": "BHFpuXfV2LfQ"
      }
    },
    {
      "cell_type": "code",
      "source": [
        "train_loss_history = []\n",
        "test_loss_history = []\n",
        "epoch = 50\n",
        "for epoch in range(epoch):\n",
        "  train_loss = 0.0\n",
        "  test_loss = 0.0\n",
        "  test_accuracy = 0.0\n",
        "  for i, data in enumerate(trainDataLoader):\n",
        "    images, labels = data\n",
        "    images = images.cuda()\n",
        "    labels = labels.cuda()\n",
        "    optimizer.zero_grad()\n",
        "    predicted_output = net(images)\n",
        "    fit = Loss(predicted_output,labels)\n",
        "    fit.backward()\n",
        "    optimizer.step()\n",
        "    train_loss += fit.item()\n",
        "  for i, data in enumerate(testDataLoader):\n",
        "    with torch.no_grad():\n",
        "      images, labels = data\n",
        "      images = images.cuda()\n",
        "      labels = labels.cuda()\n",
        "      predicted_output = net(images)\n",
        "      fit = Loss(predicted_output,labels)\n",
        "      test_loss += fit.item()\n",
        "      test_accuracy += (torch.eq(torch.max(predicted_output, 1)[1],labels).sum()).data.cpu().numpy()\n",
        "\n",
        "  train_loss = train_loss/len(trainDataLoader)\n",
        "  test_loss = test_loss/len(testDataLoader)\n",
        "  test_accuracy = test_accuracy/len(testDataLoader)\n",
        "  train_loss_history.append(train_loss)\n",
        "  test_loss_history.append(test_loss)\n",
        "  print('Epoch %s, Train loss %s, Test loss %s, Test accuracy is %s'%(epoch, train_loss, test_loss, test_accuracy))"
      ],
      "metadata": {
        "colab": {
          "base_uri": "https://localhost:8080/"
        },
        "id": "EdSeMfEiPimS",
        "outputId": "b194742b-c988-404e-98ca-f9a01bb51f92"
      },
      "execution_count": 7,
      "outputs": [
        {
          "output_type": "stream",
          "name": "stdout",
          "text": [
            "Epoch 0, Train loss 2.2957988312787108, Test loss 2.2842178344726562, Test accuracy is 9.64968152866242\n",
            "Epoch 1, Train loss 2.2425887517612, Test loss 2.1815004956190753, Test accuracy is 12.343949044585987\n",
            "Epoch 2, Train loss 2.1500272292005436, Test loss 2.125740386118555, Test accuracy is 13.656050955414013\n",
            "Epoch 3, Train loss 2.096910316163622, Test loss 2.0740387416948938, Test accuracy is 15.707006369426752\n",
            "Epoch 4, Train loss 2.057954638510409, Test loss 2.0513210456082773, Test accuracy is 15.828025477707007\n",
            "Epoch 5, Train loss 2.033283368553347, Test loss 2.026677694290307, Test accuracy is 16.777070063694268\n",
            "Epoch 6, Train loss 2.0102267093060875, Test loss 2.029702494098882, Test accuracy is 16.681528662420384\n",
            "Epoch 7, Train loss 1.983467761970237, Test loss 1.9668600179587201, Test accuracy is 18.605095541401273\n",
            "Epoch 8, Train loss 1.955860069340757, Test loss 1.962485703693074, Test accuracy is 18.81528662420382\n",
            "Epoch 9, Train loss 1.9306327836287906, Test loss 1.9387293712348694, Test accuracy is 19.095541401273884\n",
            "Epoch 10, Train loss 1.9068641754062585, Test loss 1.921194928466894, Test accuracy is 19.745222929936304\n",
            "Epoch 11, Train loss 1.8833268060708594, Test loss 1.9150459887875113, Test accuracy is 19.88535031847134\n",
            "Epoch 12, Train loss 1.8617436907175557, Test loss 1.8841018995661645, Test accuracy is 20.14012738853503\n",
            "Epoch 13, Train loss 1.8397269716957951, Test loss 1.9078531219701098, Test accuracy is 20.038216560509554\n",
            "Epoch 14, Train loss 1.8198785867227618, Test loss 1.9060669909616945, Test accuracy is 19.898089171974522\n",
            "Epoch 15, Train loss 1.8007354184489726, Test loss 1.8241396891842983, Test accuracy is 21.802547770700638\n",
            "Epoch 16, Train loss 1.7856954227932884, Test loss 1.7835268298531795, Test accuracy is 23.21019108280255\n",
            "Epoch 17, Train loss 1.7683520876538112, Test loss 1.8100516416464643, Test accuracy is 22.53503184713376\n",
            "Epoch 18, Train loss 1.7522974575267118, Test loss 1.7702478519670524, Test accuracy is 23.273885350318473\n",
            "Epoch 19, Train loss 1.7367780867135127, Test loss 1.7572222188779503, Test accuracy is 23.81528662420382\n",
            "Epoch 20, Train loss 1.7206689727580762, Test loss 1.8345931031901366, Test accuracy is 21.980891719745223\n",
            "Epoch 21, Train loss 1.708891569805877, Test loss 1.8442887227246716, Test accuracy is 21.05095541401274\n",
            "Epoch 22, Train loss 1.6954009395731076, Test loss 1.9373685326545862, Test accuracy is 20.54140127388535\n",
            "Epoch 23, Train loss 1.6801962817416471, Test loss 1.8027659776104483, Test accuracy is 22.808917197452228\n",
            "Epoch 24, Train loss 1.6686217507437977, Test loss 1.7357164651724943, Test accuracy is 23.88535031847134\n",
            "Epoch 25, Train loss 1.6576751315075418, Test loss 1.734252292639131, Test accuracy is 24.343949044585987\n",
            "Epoch 26, Train loss 1.6425376121345383, Test loss 1.7130933969643465, Test accuracy is 24.751592356687897\n",
            "Epoch 27, Train loss 1.6309505486122482, Test loss 1.715826584275361, Test accuracy is 24.656050955414013\n",
            "Epoch 28, Train loss 1.6215125615029689, Test loss 1.6873799349851668, Test accuracy is 25.45859872611465\n",
            "Epoch 29, Train loss 1.611041522696805, Test loss 1.741059010195884, Test accuracy is 23.94267515923567\n",
            "Epoch 30, Train loss 1.6002889304514736, Test loss 1.7132956928508296, Test accuracy is 24.515923566878982\n",
            "Epoch 31, Train loss 1.5891577346855417, Test loss 1.7412170885474818, Test accuracy is 23.751592356687897\n",
            "Epoch 32, Train loss 1.580403277636184, Test loss 1.753122025234684, Test accuracy is 24.32484076433121\n",
            "Epoch 33, Train loss 1.5719728570460054, Test loss 1.6822010088878072, Test accuracy is 25.29299363057325\n",
            "Epoch 34, Train loss 1.561015828186289, Test loss 1.6529527037007035, Test accuracy is 26.21656050955414\n",
            "Epoch 35, Train loss 1.5526200435350619, Test loss 1.7478887419791738, Test accuracy is 23.777070063694268\n",
            "Epoch 36, Train loss 1.5436243774640896, Test loss 1.6204146936440924, Test accuracy is 27.03184713375796\n",
            "Epoch 37, Train loss 1.5373386402264275, Test loss 1.6306627335821746, Test accuracy is 26.770700636942674\n",
            "Epoch 38, Train loss 1.5262125325020013, Test loss 1.658947243052683, Test accuracy is 25.872611464968152\n",
            "Epoch 39, Train loss 1.5190396447620733, Test loss 1.7919860501198253, Test accuracy is 24.146496815286625\n",
            "Epoch 40, Train loss 1.5124442190160532, Test loss 1.6293294437372001, Test accuracy is 26.808917197452228\n",
            "Epoch 41, Train loss 1.5019771513121818, Test loss 1.7948127817955746, Test accuracy is 24.159235668789808\n",
            "Epoch 42, Train loss 1.498115546715534, Test loss 1.6840338342508692, Test accuracy is 25.656050955414013\n",
            "Epoch 43, Train loss 1.4872700905860843, Test loss 1.6971680237229463, Test accuracy is 25.70700636942675\n",
            "Epoch 44, Train loss 1.4781106373538142, Test loss 1.7541227097723895, Test accuracy is 24.53503184713376\n",
            "Epoch 45, Train loss 1.4691991676454959, Test loss 1.7283009814608628, Test accuracy is 25.46496815286624\n",
            "Epoch 46, Train loss 1.4624806313258607, Test loss 1.6258741685539295, Test accuracy is 26.910828025477706\n",
            "Epoch 47, Train loss 1.454011568937765, Test loss 1.7070941560587305, Test accuracy is 26.171974522292995\n",
            "Epoch 48, Train loss 1.4500606935042555, Test loss 1.592273117630345, Test accuracy is 27.8343949044586\n",
            "Epoch 49, Train loss 1.4415384415165542, Test loss 1.6302739070479277, Test accuracy is 27.02547770700637\n"
          ]
        }
      ]
    },
    {
      "cell_type": "code",
      "source": [
        "plt.plot(range(epoch+1),train_loss_history,'-',linewidth=3,label='Train Error')\n",
        "plt.plot(range(epoch+1),test_loss_history,'-',linewidth=3,label='Test Error')\n",
        "plt.xlabel('Epoch')\n",
        "plt.ylabel('Loss')\n",
        "plt.grid(True)\n",
        "plt.title('Train Loss Vs Test Loss')\n",
        "plt.legend()"
      ],
      "metadata": {
        "colab": {
          "base_uri": "https://localhost:8080/",
          "height": 313
        },
        "id": "KIM4e0weTAQB",
        "outputId": "c0f23093-b171-4cbb-98a0-c3b3dafccab8"
      },
      "execution_count": 8,
      "outputs": [
        {
          "output_type": "execute_result",
          "data": {
            "text/plain": [
              "<matplotlib.legend.Legend at 0x7ffa15349910>"
            ]
          },
          "metadata": {},
          "execution_count": 8
        },
        {
          "output_type": "display_data",
          "data": {
            "image/png": "[encoded data removed]",
            "text/plain": [
              "<Figure size 432x288 with 1 Axes>"
            ]
          },
          "metadata": {
            "needs_background": "light"
          }
        }
      ]
    }
  ]
}